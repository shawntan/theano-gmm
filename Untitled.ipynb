{
 "cells": [
  {
   "cell_type": "code",
   "execution_count": 1,
   "metadata": {
    "collapsed": false
   },
   "outputs": [
    {
     "name": "stdout",
     "output_type": "stream",
     "text": [
      "Couldn't import dot_parser, loading of dot files will not be possible.\n"
     ]
    }
   ],
   "source": [
    "import numpy as np\n",
    "import theano\n",
    "import theano.tensor as T"
   ]
  },
  {
   "cell_type": "code",
   "execution_count": 3,
   "metadata": {
    "collapsed": true
   },
   "outputs": [],
   "source": [
    "def variance_inverse(covariance_tensor):\n",
    "    inverted,_ = theano.map(\n",
    "            T.nlinalg.matrix_inverse,\n",
    "            sequences = [covariance_tensor]\n",
    "    )\n",
    "    return inverted"
   ]
  },
  {
   "cell_type": "code",
   "execution_count": 110,
   "metadata": {
    "collapsed": false
   },
   "outputs": [],
   "source": [
    "def build(params,name,phonemes,components,rows,cols):\n",
    "    n_hidden = rows * cols\n",
    "    mean_arr = np.zeros((phonemes,components,2))\n",
    "    mean_arr[:,0,:] = [ 7.5, 7.5]\n",
    "    mean_arr[:,1,:] = [ 7.5,22.5]\n",
    "    mean_arr[:,2,:] = [22.5, 7.5]\n",
    "    mean_arr[:,3,:] = [22.5,22.5]\n",
    "\n",
    "    phoneme_mixtures = theano.shared(\n",
    "                            np.ones((phonemes,components))/components\n",
    "                        )                       # phonemes x components\n",
    "    phoneme_means    = theano.shared(mean_arr)  # phonemes x components x 2\n",
    "    phoneme_var      = theano.shared(\n",
    "                            np.array(phonemes * [\n",
    "                                components * [ np.eye(2) ]\n",
    "                            ])\n",
    "                        )                       # phonemes x components x 2 x 2\n",
    "\n",
    "\tphoneme_precisions = variance_inverse(\n",
    "\t\t\tphoneme_var.reshape((phonemes * components,2,2))\n",
    "\t\t).reshape((phonemes,components,2,2))\n",
    "\n",
    "\tpoints = theano.shared(np.dstack(np.meshgrid(\n",
    "\t\tnp.arange(cols),np.arange(rows)\n",
    "\t)).reshape(n_hidden,2))\t\t\t\t\t\t\t\t\t\t\t\t# n_hidden x 2\n",
    "\n",
    "\tphoneme_means_      = phoneme_means.dimshuffle(0,1,'x',2)\t\t\t# phonemes x components x 1 x 2\n",
    "\tphoneme_precisions_ = phoneme_precisions.dimshuffle(0,1,'x',2,3)\t# phonemes x components x 1 x 2 x 2\n",
    "\tphoneme_mixtures_   = phoneme_mixtures.dimshuffle(0,1,'x')\n",
    "\tpoints_ = points.dimshuffle('x','x',0,1)\t\t\t\t\t\t\t# 1 x 1 x n_hidden x 2\n",
    "\tdeviations = points_ - phoneme_means_ \t\t\t\t\t\t\t\t# phonemes x components x n_hidden x 2\n",
    "\tdeviations_ = deviations.dimshuffle(0,1,2,'x',3)\t\t\t\t\t# phonemes x components x n_hidden x 1 x 2\n",
    "\tnormalised_deviations = T.sum(phoneme_precisions_ * deviations_,axis=3)\t\t# phonemes x components x n_hidden x 2 \n",
    "\tgaussians = T.exp(-T.sum(normalised_deviations**2,axis=3))\t\t\t# phonemes x components x n_hidden\n",
    "\tnorm_gaussians = gaussians / T.sum(gaussians,axis=2).dimshuffle(0,1,'x') \n",
    "\n",
    "\tmog = T.sum(norm_gaussians * phoneme_mixtures_,axis=1)\n",
    "\n",
    "\n",
    "\tdef constraint(hidden,phonemes):\n",
    "\t\tsurface = mog[phonemes]  # N x n_hidden\n",
    "\t\tnorm_hidden = hidden / T.sum(hidden,axis=1).dimshuffle(0,'x')\n",
    "\t\treturn -mog[phonemes] * T.log(hidden)\n",
    "\t\t\n",
    "\tstats_w_acc    = theano.shared(np.zeros((phonemes,components)))\t\t# phonemes x components\n",
    "\tstats_mean_acc = theano.shared(np.zeros((phonemes,components,2)))\t# phonemes x components x 2\n",
    "\tstats_var_acc  = theano.shared(np.zeros((phonemes,components,2,2)))\t# phonemes x components x 2 x 2\n",
    "\n",
    "\tdef updates(hidden,phonemes):\n",
    "\t\tframe_gaussians = norm_gaussians[phonemes] \t# N x components x n_hidden\n",
    "\t\thidden_ = hidden.dimshuffle(0,'x',1)\t\t# N x n_hidden x 1\n",
    "\t\tgamma   = frame_gaussians / T.sum(frame_gaussians,axis=1).dimshuffle(0,'x',1) # N x components x n_hidden\n",
    "\t\tcontribution   = gamma * hidden_\t\t\t\t\t# N x components x n_hidden\n",
    "\t\tcontribution_  = contribution.dimshuffle(0,1,2,'x')\t  # N x components x n_hidden x 1\n",
    "\t\tcontribution__ = contribution.dimshuffle(0,1,2,'x','x') # N x components x n_hidden x 1 x 1\n",
    "\t\tpoint_contri = contribution_ *  points_  # N x components x n_hidden x 2\n",
    "\t\tvari_contri = point_contri.dimshuffle(0,1,2,3,'x') \\\n",
    "\t\t\t\t\t* point_contri.dimshuffle(0,1,2,'x',3)\n",
    "\n",
    "\t\tstats_w    = T.sum(contribution,axis=2) # N x components\n",
    "\t\tstats_mean = T.sum(point_contri,axis=2) # N x components x 2\n",
    "\t\tstats_var  = T.sum(vari_contri,axis=2)  # N x components x 2 x 2\n",
    "\n",
    "\t\tstats_updates = [\n",
    "\t\t\t(stats_w_acc,    T.inc_subtensor(stats_w_acc[phonemes],stats_w)),\n",
    "\t\t\t(stats_mean_acc, T.inc_subtensor(stats_mean_acc[phonemes],stats_mean)),\n",
    "\t\t\t(stats_var_acc , T.inc_subtensor(stats_var_acc[phonemes],stats_var)),\n",
    "\t\t]\n",
    "\t\teps = 1e-8\n",
    "\t\tstats_w_acc_ = stats_w_acc.dimshuffle(0,1,'x')\n",
    "\t\tstats_w_acc__ = stats_w_acc.dimshuffle(0,1,'x','x')\n",
    "\t\tphoneme_mixture_update = (stats_w_acc + eps) / T.sum(stats_w_acc + eps,axis=1).dimshuffle(0,'x')\n",
    "\t\tphoneme_mean_update = (stats_mean_acc + eps) / (stats_w_acc_ + eps)\n",
    "\t\tphoneme_mean_sq = phoneme_mean_update.dimshuffle(0,1,'x',2) \\\n",
    "\t\t\t\t\t\t* phoneme_mean_update.dimshuffle(0,1,2,'x') \n",
    "\t\tphoneme_var_update =  stats_var_acc / stats_w_acc__ - phoneme_mean_sq\n",
    "\t\tparam_updates = [\n",
    "\t\t\t(phoneme_mixtures, phoneme_mixture_update),\n",
    "\t\t\t(phoneme_means,    phoneme_mean_update),\n",
    "\t\t\t(phoneme_var,      phoneme_var_update),\n",
    "\t\t\t(stats_w_acc,      0. * stats_w_acc),\n",
    "\t\t\t(stats_mean_acc,   0. * stats_mean_acc),\n",
    "\t\t\t(stats_var_acc ,   0. * stats_var_acc),\n",
    "\t\t]\n",
    "        \n",
    "\t\treturn stats_updates,param_updates\n",
    "\n",
    "\t\t\n",
    "\tparams[\"phoneme_mixtures_%s\"%name] = phoneme_mixtures\n",
    "\tparams[\"phoneme_means_%s\"%name]    = phoneme_means\n",
    "\tparams[\"phoneme_var_%s\"%name]      = phoneme_var\n",
    "\tphoneme_mixtures.name = \"phoneme_mixtures_%s\"%name\n",
    "\tphoneme_means.name = \"phoneme_means_%s\"%name\n",
    "\tphoneme_var.name = \"phoneme_var_%s\"%name\n",
    "\n",
    "\treturn constraint,updates,mog"
   ]
  },
  {
   "cell_type": "code",
   "execution_count": 111,
   "metadata": {
    "collapsed": false
   },
   "outputs": [],
   "source": [
    "phoneme_means_      = phoneme_means.dimshuffle(0,1,'x',2)\t\t\t# phonemes x components x 1 x 2\n",
    "phoneme_precisions_ = phoneme_precisions.dimshuffle(0,1,'x',2,3)\t# phonemes x components x 1 x 2 x 2\n",
    "phoneme_mixtures_   = phoneme_mixtures.dimshuffle(0,1,'x')\n",
    "points_ = points.dimshuffle('x','x',0,1)\t\t\t\t\t\t\t# 1 x 1 x n_hidden x 2\n",
    "deviations = points_ - phoneme_means_ \t\t\t\t\t\t\t\t# phonemes x components x n_hidden x 2\n",
    "deviations_ = deviations.dimshuffle(0,1,2,'x',3)\t\t\t\t\t# phonemes x components x n_hidden x 1 x 2\n",
    "normalised_deviations = T.sum(phoneme_precisions_ * deviations_,axis=3)\t\t# phonemes x components x n_hidden x 2 \n",
    "gaussians = T.exp(-T.sum(normalised_deviations**2,axis=3))\t\t\t# phonemes x components x n_hidden\n",
    "norm_gaussians = gaussians / T.sum(gaussians,axis=2).dimshuffle(0,1,'x')\n",
    "mog = T.sum(norm_gaussians * phoneme_mixtures_,axis=1)"
   ]
  },
  {
   "cell_type": "code",
   "execution_count": 112,
   "metadata": {
    "collapsed": false
   },
   "outputs": [],
   "source": [
    "gaussians = norm_gaussians.eval()"
   ]
  },
  {
   "cell_type": "code",
   "execution_count": 113,
   "metadata": {
    "collapsed": false
   },
   "outputs": [
    {
     "data": {
      "text/plain": [
       "<matplotlib.image.AxesImage at 0x7f31b066f610>"
      ]
     },
     "execution_count": 113,
     "metadata": {},
     "output_type": "execute_result"
    },
    {
     "data": {
      "image/png": "[encoded data removed]",
      "text/plain": [
       "<matplotlib.figure.Figure at 0x7f31b1d74ad0>"
      ]
     },
     "metadata": {},
     "output_type": "display_data"
    }
   ],
   "source": [
    "%matplotlib inline\n",
    "import matplotlib.pyplot as plt\n",
    "\n",
    "plt.imshow(gaussians[0,0].reshape(32,32),interpolation=\"nearest\") #gaussian creation seems to be working"
   ]
  },
  {
   "cell_type": "code",
   "execution_count": 114,
   "metadata": {
    "collapsed": false
   },
   "outputs": [
    {
     "data": {
      "text/plain": [
       "<matplotlib.image.AxesImage at 0x7f31b05b14d0>"
      ]
     },
     "execution_count": 114,
     "metadata": {},
     "output_type": "execute_result"
    },
    {
     "data": {
      "image/png": "[encoded data removed]",
      "text/plain": [
       "<matplotlib.figure.Figure at 0x7f31b067c050>"
      ]
     },
     "metadata": {},
     "output_type": "display_data"
    }
   ],
   "source": [
    "mog = T.sum(norm_gaussians * phoneme_mixtures_,axis=1)\n",
    "mog_data = mog.eval()\n",
    "plt.imshow(mog_data[0].reshape(32,32),interpolation=\"nearest\")"
   ]
  },
  {
   "cell_type": "code",
   "execution_count": 147,
   "metadata": {
    "collapsed": false
   },
   "outputs": [
    {
     "data": {
      "text/plain": [
       "<matplotlib.image.AxesImage at 0x7f31ad8b86d0>"
      ]
     },
     "execution_count": 147,
     "metadata": {},
     "output_type": "execute_result"
    },
    {
     "data": {
      "image/png": "[encoded data removed]",
      "text/plain": [
       "<matplotlib.figure.Figure at 0x7f31ae879e50>"
      ]
     },
     "metadata": {},
     "output_type": "display_data"
    }
   ],
   "source": [
    "data = np.zeros((128,1024),dtype=np.float32)\n",
    "data += np.random.rand(128,1024)\n",
    "data[:,32 * 0 + 0] = 10\n",
    "data[:,32 * 22 + 6] = 10\n",
    "data[:,32 * 22 + 22] = 10\n",
    "data[:,32 * 1 + 1] = 10\n",
    "\n",
    "hidden   = theano.shared(data)\n",
    "phonemes = theano.shared(np.zeros((128,),dtype=np.int32))\n",
    "plt.imshow(data[0].reshape(32,32),interpolation=\"nearest\") #data generation seems to be working"
   ]
  },
  {
   "cell_type": "code",
   "execution_count": 148,
   "metadata": {
    "collapsed": false
   },
   "outputs": [],
   "source": [
    "frame_gaussians = norm_gaussians[phonemes]  # N x components x n_hidden\n",
    "hidden_ = hidden.dimshuffle(0,'x',1)        # N x 1 x n_hidden \n",
    "gamma   = frame_gaussians / T.sum(frame_gaussians,axis=1).dimshuffle(0,'x',1) # N x components x n_hidden\n",
    "contribution   = gamma * hidden_            # N x components x n_hidden\n",
    "contribution_  = contribution.dimshuffle(0,1,2,'x')\t  # N x components x n_hidden x 1\n",
    "contribution__ = contribution.dimshuffle(0,1,2,'x','x') # N x components x n_hidden x 1 x 1\n",
    "point_contri = contribution_ *  points_  # N x components x n_hidden x 2\n",
    "vari_contri = point_contri.dimshuffle(0,1,2,3,'x') \\\n",
    "            * point_contri.dimshuffle(0,1,2,'x',3)\n",
    "\n"
   ]
  },
  {
   "cell_type": "code",
   "execution_count": 149,
   "metadata": {
    "collapsed": false
   },
   "outputs": [
    {
     "name": "stdout",
     "output_type": "stream",
     "text": [
      "(128, 4, 1024)\n"
     ]
    },
    {
     "data": {
      "text/plain": [
       "<matplotlib.image.AxesImage at 0x7f31ad99f710>"
      ]
     },
     "execution_count": 149,
     "metadata": {},
     "output_type": "execute_result"
    },
    {
     "data": {
      "image/png": "[encoded data removed]",
      "text/plain": [
       "<matplotlib.figure.Figure at 0x7f31ad9bb490>"
      ]
     },
     "metadata": {},
     "output_type": "display_data"
    }
   ],
   "source": [
    "g = gamma.eval()\n",
    "print g.shape\n",
    "plt.imshow(g[0,2,:].reshape(32,32),interpolation=\"nearest\") # so we know gamma works"
   ]
  },
  {
   "cell_type": "code",
   "execution_count": 150,
   "metadata": {
    "collapsed": false
   },
   "outputs": [
    {
     "name": "stdout",
     "output_type": "stream",
     "text": [
      "(128, 4, 1024)\n",
      "10.0\n"
     ]
    },
    {
     "data": {
      "text/plain": [
       "<matplotlib.image.AxesImage at 0x7f31aed49290>"
      ]
     },
     "execution_count": 150,
     "metadata": {},
     "output_type": "execute_result"
    },
    {
     "data": {
      "image/png": "[encoded data removed]",
      "text/plain": [
       "<matplotlib.figure.Figure at 0x7f31ae9d6390>"
      ]
     },
     "metadata": {},
     "output_type": "display_data"
    }
   ],
   "source": [
    "c = contribution.eval()\n",
    "print c.shape\n",
    "print np.max(c)\n",
    "plt.imshow(c[0,0,:].reshape(32,32),interpolation=\"nearest\") # so we know contribution works"
   ]
  },
  {
   "cell_type": "code",
   "execution_count": 151,
   "metadata": {
    "collapsed": false
   },
   "outputs": [],
   "source": [
    "stats_w    = T.sum(contribution,axis=2) # N x components\n",
    "stats_mean = T.sum(point_contri,axis=2) # N x components x 2\n",
    "stats_var  = T.sum(vari_contri,axis=2)  # N x components x 2 x 2\n",
    "stats_w_acc1 = T.inc_subtensor(stats_w_acc[phonemes],stats_w)\n",
    "stats_mean_acc1 = T.inc_subtensor(stats_mean_acc[phonemes],stats_mean)\n",
    "stats_var_acc1 = T.inc_subtensor(stats_var_acc[phonemes],stats_var)"
   ]
  },
  {
   "cell_type": "code",
   "execution_count": 152,
   "metadata": {
    "collapsed": false
   },
   "outputs": [
    {
     "data": {
      "text/plain": [
       "array([[ 0.25341905,  0.233432  ,  0.24971682,  0.26343212]])"
      ]
     },
     "execution_count": 152,
     "metadata": {},
     "output_type": "execute_result"
    }
   ],
   "source": [
    "phoneme_mixture_update = stats_w_acc1 / T.sum(stats_w_acc1,axis=1).dimshuffle(0,'x')\n",
    "phoneme_mixture_update.eval()"
   ]
  },
  {
   "cell_type": "code",
   "execution_count": 153,
   "metadata": {
    "collapsed": false
   },
   "outputs": [
    {
     "data": {
      "text/plain": [
       "array([[[  6.33461107,   6.34599769],\n",
       "        [ 23.25200686,   7.26031222],\n",
       "        [  7.19145142,  23.15861665],\n",
       "        [ 23.16112824,  23.16692868]]])"
      ]
     },
     "execution_count": 153,
     "metadata": {},
     "output_type": "execute_result"
    }
   ],
   "source": [
    "phoneme_mean_update = stats_mean_acc1 / stats_w_acc1.dimshuffle(0,1,'x')\n",
    "phoneme_mean_update.eval()"
   ]
  }
 ],
 "metadata": {
  "kernelspec": {
   "display_name": "Python 2",
   "language": "python",
   "name": "python2"
  },
  "language_info": {
   "codemirror_mode": {
    "name": "ipython",
    "version": 2
   },
   "file_extension": ".py",
   "mimetype": "text/x-python",
   "name": "python",
   "nbconvert_exporter": "python",
   "pygments_lexer": "ipython2",
   "version": "2.7.9"
  }
 },
 "nbformat": 4,
 "nbformat_minor": 0
}
