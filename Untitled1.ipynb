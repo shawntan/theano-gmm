{
 "cells": [
  {
   "cell_type": "code",
   "execution_count": 1,
   "metadata": {
    "collapsed": false
   },
   "outputs": [
    {
     "name": "stdout",
     "output_type": "stream",
     "text": [
      "Couldn't import dot_parser, loading of dot files will not be possible.\n"
     ]
    }
   ],
   "source": [
    "import numpy as np\n",
    "import theano\n",
    "import theano.tensor as T"
   ]
  },
  {
   "cell_type": "code",
   "execution_count": 2,
   "metadata": {
    "collapsed": true
   },
   "outputs": [],
   "source": [
    "def variance_inverse(covariance_tensor):\n",
    "    inverted,_ = theano.map(\n",
    "            T.nlinalg.matrix_inverse,\n",
    "            sequences = [covariance_tensor]\n",
    "    )\n",
    "    return inverted"
   ]
  },
  {
   "cell_type": "code",
   "execution_count": 6,
   "metadata": {
    "collapsed": true
   },
   "outputs": [],
   "source": [
    "def build(params,name,phonemes,components,rows,cols):\n",
    "    n_hidden = rows * cols\n",
    "    mean_arr = np.zeros((phonemes,components,2))\n",
    "    mean_arr[:,0,:] = [ 7.5, 7.5]\n",
    "    mean_arr[:,1,:] = [ 7.5,22.5]\n",
    "    mean_arr[:,2,:] = [22.5, 7.5]\n",
    "    mean_arr[:,3,:] = [22.5,22.5]\n",
    "\n",
    "    phoneme_mixtures = theano.shared(\n",
    "                            np.ones((phonemes,components))/components\n",
    "                        )                       # phonemes x components\n",
    "    phoneme_means    = theano.shared(mean_arr)  # phonemes x components x 2\n",
    "    phoneme_var      = theano.shared(\n",
    "                            np.array(phonemes * [\n",
    "                                components * [ np.eye(2) ]\n",
    "                            ])\n",
    "                        )                       # phonemes x components x 2 x 2\n",
    "\n",
    "    phoneme_precisions = variance_inverse(\n",
    "            phoneme_var.reshape((phonemes * components,2,2))\n",
    "        ).reshape((phonemes,components,2,2))\n",
    "\n",
    "    points = theano.shared(np.dstack(np.meshgrid(\n",
    "        np.arange(cols),np.arange(rows)\n",
    "    )).reshape(n_hidden,2))                                            # n_hidden x 2\n",
    "\n",
    "    phoneme_means_      = phoneme_means.dimshuffle(0,1,'x',2)          # phonemes x components x 1 x 2\n",
    "    phoneme_precisions_ = phoneme_precisions.dimshuffle(0,1,'x',2,3)   # phonemes x components x 1 x 2 x 2\n",
    "    \n",
    "    points_ = points.dimshuffle('x','x',0,1)                           # 1 x 1 x n_hidden x 2\n",
    "    deviations = points_ - phoneme_means_                              # phonemes x components x n_hidden x 2\n",
    "    deviations_ = deviations.dimshuffle(0,1,2,'x',3)                   # phonemes x components x n_hidden x 1 x 2\n",
    "    normalised_deviations = T.sum(phoneme_precisions_ * deviations_,axis=3) # phonemes x components x n_hidden x 2 \n",
    "    gaussians = T.exp(-T.sum(normalised_deviations**2,axis=3))         # phonemes x components x n_hidden\n",
    "    norm_gaussians = gaussians / T.sum(gaussians,axis=2).dimshuffle(0,1,'x')\n",
    "\n",
    "\n",
    "\n",
    "    stats_w_acc    = theano.shared(np.zeros((phonemes,components)))\t\t# phonemes x components\n",
    "    stats_mean_acc = theano.shared(np.zeros((phonemes,components,2)))\t# phonemes x components x 2\n",
    "    stats_var_acc  = theano.shared(np.zeros((phonemes,components,2,2)))\t# phonemes x components x 2 x 2\n",
    "\n",
    "    def updates(hidden,phonemes):\n",
    "        frame_gaussians = norm_gaussians[phonemes] \t# N x components x n_hidden\n",
    "        hidden_ = hidden.dimshuffle(0,'x',1)\t\t# N x n_hidden x 1\n",
    "        gamma   = frame_gaussians / T.sum(frame_gaussians,axis=1).dimshuffle(0,'x',1) # N x components x n_hidden\n",
    "        contribution   = gamma * hidden_                        # N x components x n_hidden\n",
    "        contribution_  = contribution.dimshuffle(0,1,2,'x')     # N x components x n_hidden x 1\n",
    "        contribution__ = contribution.dimshuffle(0,1,2,'x','x') # N x components x n_hidden x 1 x 1\n",
    "        point_contri = contribution_ *  points_                 # N x components x n_hidden x 2\n",
    "        vari_contri = point_contri.dimshuffle(0,1,2,3,'x') \\\n",
    "                    * point_contri.dimshuffle(0,1,2,'x',3)\n",
    "\n",
    "        stats_w    = T.sum(contribution,axis=2) # N x components\n",
    "        stats_mean = T.sum(point_contri,axis=2) # N x components x 2\n",
    "        stats_var  = T.sum(vari_contri,axis=2)  # N x components x 2 x 2\n",
    "\n",
    "        stats_updates = [\n",
    "            (stats_w_acc,    T.inc_subtensor(stats_w_acc[phonemes],stats_w)),\n",
    "            (stats_mean_acc, T.inc_subtensor(stats_mean_acc[phonemes],stats_mean)),\n",
    "            (stats_var_acc , T.inc_subtensor(stats_var_acc[phonemes],stats_var)),\n",
    "        ]\n",
    "        \n",
    "        eps = 1e-8\n",
    "        stats_w_acc_ = stats_w_acc.dimshuffle(0,1,'x')\n",
    "        stats_w_acc__ = stats_w_acc.dimshuffle(0,1,'x','x')\n",
    "        phoneme_mixture_update = stats_w_acc  / T.sum(stats_w_acc,axis=1).dimshuffle(0,'x')\n",
    "        phoneme_mean_update = stats_mean_acc / stats_w_acc_\n",
    "        phoneme_mean_sq = phoneme_mean_update.dimshuffle(0,1,'x',2) \\\n",
    "                        * phoneme_mean_update.dimshuffle(0,1,2,'x') \n",
    "        phoneme_var_update =  stats_var_acc / stats_w_acc__ - phoneme_mean_sq\n",
    "        param_updates = [\n",
    "            (phoneme_mixtures, phoneme_mixture_update),\n",
    "            (phoneme_means,    phoneme_mean_update),\n",
    "            (phoneme_var,      phoneme_var_update),\n",
    "            (stats_w_acc,      0. * stats_w_acc),\n",
    "            (stats_mean_acc,   0. * stats_mean_acc),\n",
    "            (stats_var_acc ,   0. * stats_var_acc),\n",
    "        ]\n",
    "        \n",
    "        return stats_updates,param_updates\n",
    "    \n",
    "\n",
    "\n",
    "    def constraint(hidden,phonemes):\n",
    "        phoneme_mixtures_   = phoneme_mixtures.dimshuffle(0,1,'x')\n",
    "        mog = T.sum(norm_gaussians * phoneme_mixtures_,axis=1)\n",
    "        surface = mog[phonemes]  # N x n_hidden\n",
    "        norm_hidden = hidden / T.sum(hidden,axis=1).dimshuffle(0,'x')\n",
    "        return -mog[phonemes] * T.log(hidden)\n",
    "    \n",
    "    params[\"phoneme_mixtures_%s\"%name] = phoneme_mixtures\n",
    "    params[\"phoneme_means_%s\"%name]    = phoneme_means\n",
    "    params[\"phoneme_var_%s\"%name]      = phoneme_var\n",
    "    phoneme_mixtures.name = \"phoneme_mixtures_%s\"%name\n",
    "    phoneme_means.name = \"phoneme_means_%s\"%name\n",
    "    phoneme_var.name = \"phoneme_var_%s\"%name\n",
    "\n",
    "    return constraint,updates"
   ]
  },
  {
   "cell_type": "code",
   "execution_count": 27,
   "metadata": {
    "collapsed": false
   },
   "outputs": [],
   "source": [
    "params = {}\n",
    "constraints,updates = build(params,\"test\",1,4,32,32)\n",
    "\n",
    "X = T.matrix('X')\n",
    "Y = T.ivector('Y')\n",
    "\n",
    "stats_updates,param_updates = updates(X,Y)\n",
    "update_stats = theano.function(\n",
    "                    inputs=[X,Y],\n",
    "                    updates = stats_updates\n",
    "                )\n",
    "update_params = theano.function(\n",
    "                inputs = [],\n",
    "                updates = param_updates\n",
    "            )"
   ]
  },
  {
   "cell_type": "code",
   "execution_count": 30,
   "metadata": {
    "collapsed": false
   },
   "outputs": [
    {
     "ename": "LinAlgError",
     "evalue": "Singular matrix\nApply node that caused the error: MatrixInverse(<TensorType(float64, matrix)>)\nInputs types: [TensorType(float64, matrix)]\n\nBacktrace when the node is created:\n  File \"<ipython-input-2-a8423099d1e5>\", line 4, in variance_inverse\n    sequences = [covariance_tensor]\n\nHINT: Use another linker then the c linker to have the inputs shapes and strides printed.\nHINT: Use the Theano flag 'exception_verbosity=high' for a debugprint and storage map footprint of this apply node.\nApply node that caused the error: for{cpu,scan_fn}(TensorConstant{4}, Reshape{3}.0, TensorConstant{4})\nInputs types: [TensorType(int64, scalar), TensorType(float64, 3D), TensorType(int64, scalar)]\nInputs shapes: [(), (4, 2, 2), ()]\nInputs strides: [(), (32, 16, 8), ()]\nInputs values: [array(4), 'not shown', array(4)]\n\nBacktrace when the node is created:\n  File \"<ipython-input-2-a8423099d1e5>\", line 4, in variance_inverse\n    sequences = [covariance_tensor]\n\nHINT: Use the Theano flag 'exception_verbosity=high' for a debugprint and storage map footprint of this apply node.",
     "output_type": "error",
     "traceback": [
      "\u001b[1;31m---------------------------------------------------------------------------\u001b[0m",
      "\u001b[1;31mLinAlgError\u001b[0m                               Traceback (most recent call last)",
      "\u001b[1;32m<ipython-input-30-7c8b94298f02>\u001b[0m in \u001b[0;36m<module>\u001b[1;34m()\u001b[0m\n\u001b[0;32m      7\u001b[0m     \u001b[0mdata\u001b[0m\u001b[1;33m[\u001b[0m\u001b[1;33m:\u001b[0m\u001b[1;33m,\u001b[0m\u001b[1;36m32\u001b[0m \u001b[1;33m*\u001b[0m \u001b[1;36m22\u001b[0m \u001b[1;33m+\u001b[0m \u001b[1;36m22\u001b[0m\u001b[1;33m]\u001b[0m \u001b[1;33m=\u001b[0m \u001b[1;36m10\u001b[0m\u001b[1;33m\u001b[0m\u001b[0m\n\u001b[0;32m      8\u001b[0m     \u001b[0mdata\u001b[0m\u001b[1;33m[\u001b[0m\u001b[1;33m:\u001b[0m\u001b[1;33m,\u001b[0m\u001b[1;36m32\u001b[0m \u001b[1;33m*\u001b[0m \u001b[1;36m1\u001b[0m \u001b[1;33m+\u001b[0m \u001b[1;36m1\u001b[0m\u001b[1;33m]\u001b[0m \u001b[1;33m=\u001b[0m \u001b[1;36m10\u001b[0m\u001b[1;33m\u001b[0m\u001b[0m\n\u001b[1;32m----> 9\u001b[1;33m     \u001b[0mupdate_stats\u001b[0m\u001b[1;33m(\u001b[0m\u001b[0mdata\u001b[0m\u001b[1;33m,\u001b[0m\u001b[0ml\u001b[0m\u001b[1;33m)\u001b[0m\u001b[1;33m\u001b[0m\u001b[0m\n\u001b[0m\u001b[0;32m     10\u001b[0m \u001b[0mupdate_params\u001b[0m\u001b[1;33m(\u001b[0m\u001b[1;33m)\u001b[0m\u001b[1;33m\u001b[0m\u001b[0m\n",
      "\u001b[1;32m/usr/lib/python2.7/site-packages/theano/compile/function_module.pyc\u001b[0m in \u001b[0;36m__call__\u001b[1;34m(self, *args, **kwargs)\u001b[0m\n\u001b[0;32m    604\u001b[0m                         \u001b[0mself\u001b[0m\u001b[1;33m.\u001b[0m\u001b[0mfn\u001b[0m\u001b[1;33m.\u001b[0m\u001b[0mnodes\u001b[0m\u001b[1;33m[\u001b[0m\u001b[0mself\u001b[0m\u001b[1;33m.\u001b[0m\u001b[0mfn\u001b[0m\u001b[1;33m.\u001b[0m\u001b[0mposition_of_error\u001b[0m\u001b[1;33m]\u001b[0m\u001b[1;33m,\u001b[0m\u001b[1;33m\u001b[0m\u001b[0m\n\u001b[0;32m    605\u001b[0m                         \u001b[0mself\u001b[0m\u001b[1;33m.\u001b[0m\u001b[0mfn\u001b[0m\u001b[1;33m.\u001b[0m\u001b[0mthunks\u001b[0m\u001b[1;33m[\u001b[0m\u001b[0mself\u001b[0m\u001b[1;33m.\u001b[0m\u001b[0mfn\u001b[0m\u001b[1;33m.\u001b[0m\u001b[0mposition_of_error\u001b[0m\u001b[1;33m]\u001b[0m\u001b[1;33m,\u001b[0m\u001b[1;33m\u001b[0m\u001b[0m\n\u001b[1;32m--> 606\u001b[1;33m                         storage_map=self.fn.storage_map)\n\u001b[0m\u001b[0;32m    607\u001b[0m                 \u001b[1;32melse\u001b[0m\u001b[1;33m:\u001b[0m\u001b[1;33m\u001b[0m\u001b[0m\n\u001b[0;32m    608\u001b[0m                     \u001b[1;31m# For the c linker We don't have access from\u001b[0m\u001b[1;33m\u001b[0m\u001b[1;33m\u001b[0m\u001b[0m\n",
      "\u001b[1;32m/usr/lib/python2.7/site-packages/theano/compile/function_module.pyc\u001b[0m in \u001b[0;36m__call__\u001b[1;34m(self, *args, **kwargs)\u001b[0m\n\u001b[0;32m    593\u001b[0m         \u001b[0mt0_fn\u001b[0m \u001b[1;33m=\u001b[0m \u001b[0mtime\u001b[0m\u001b[1;33m.\u001b[0m\u001b[0mtime\u001b[0m\u001b[1;33m(\u001b[0m\u001b[1;33m)\u001b[0m\u001b[1;33m\u001b[0m\u001b[0m\n\u001b[0;32m    594\u001b[0m         \u001b[1;32mtry\u001b[0m\u001b[1;33m:\u001b[0m\u001b[1;33m\u001b[0m\u001b[0m\n\u001b[1;32m--> 595\u001b[1;33m             \u001b[0moutputs\u001b[0m \u001b[1;33m=\u001b[0m \u001b[0mself\u001b[0m\u001b[1;33m.\u001b[0m\u001b[0mfn\u001b[0m\u001b[1;33m(\u001b[0m\u001b[1;33m)\u001b[0m\u001b[1;33m\u001b[0m\u001b[0m\n\u001b[0m\u001b[0;32m    596\u001b[0m         \u001b[1;32mexcept\u001b[0m \u001b[0mException\u001b[0m\u001b[1;33m:\u001b[0m\u001b[1;33m\u001b[0m\u001b[0m\n\u001b[0;32m    597\u001b[0m             \u001b[1;32mif\u001b[0m \u001b[0mhasattr\u001b[0m\u001b[1;33m(\u001b[0m\u001b[0mself\u001b[0m\u001b[1;33m.\u001b[0m\u001b[0mfn\u001b[0m\u001b[1;33m,\u001b[0m \u001b[1;34m'position_of_error'\u001b[0m\u001b[1;33m)\u001b[0m\u001b[1;33m:\u001b[0m\u001b[1;33m\u001b[0m\u001b[0m\n",
      "\u001b[1;32m/usr/lib/python2.7/site-packages/theano/scan_module/scan_op.pyc\u001b[0m in \u001b[0;36mrval\u001b[1;34m(p, i, o, n, allow_gc)\u001b[0m\n\u001b[0;32m    670\u001b[0m         def rval(p=p, i=node_input_storage, o=node_output_storage, n=node,\n\u001b[0;32m    671\u001b[0m                  allow_gc=allow_gc):\n\u001b[1;32m--> 672\u001b[1;33m             \u001b[0mr\u001b[0m \u001b[1;33m=\u001b[0m \u001b[0mp\u001b[0m\u001b[1;33m(\u001b[0m\u001b[0mn\u001b[0m\u001b[1;33m,\u001b[0m \u001b[1;33m[\u001b[0m\u001b[0mx\u001b[0m\u001b[1;33m[\u001b[0m\u001b[1;36m0\u001b[0m\u001b[1;33m]\u001b[0m \u001b[1;32mfor\u001b[0m \u001b[0mx\u001b[0m \u001b[1;32min\u001b[0m \u001b[0mi\u001b[0m\u001b[1;33m]\u001b[0m\u001b[1;33m,\u001b[0m \u001b[0mo\u001b[0m\u001b[1;33m)\u001b[0m\u001b[1;33m\u001b[0m\u001b[0m\n\u001b[0m\u001b[0;32m    673\u001b[0m             \u001b[1;32mfor\u001b[0m \u001b[0mo\u001b[0m \u001b[1;32min\u001b[0m \u001b[0mnode\u001b[0m\u001b[1;33m.\u001b[0m\u001b[0moutputs\u001b[0m\u001b[1;33m:\u001b[0m\u001b[1;33m\u001b[0m\u001b[0m\n\u001b[0;32m    674\u001b[0m                 \u001b[0mcompute_map\u001b[0m\u001b[1;33m[\u001b[0m\u001b[0mo\u001b[0m\u001b[1;33m]\u001b[0m\u001b[1;33m[\u001b[0m\u001b[1;36m0\u001b[0m\u001b[1;33m]\u001b[0m \u001b[1;33m=\u001b[0m \u001b[0mTrue\u001b[0m\u001b[1;33m\u001b[0m\u001b[0m\n",
      "\u001b[1;32m/usr/lib/python2.7/site-packages/theano/scan_module/scan_op.pyc\u001b[0m in \u001b[0;36m<lambda>\u001b[1;34m(node, args, outs)\u001b[0m\n\u001b[0;32m    659\u001b[0m                         \u001b[0margs\u001b[0m\u001b[1;33m,\u001b[0m\u001b[1;33m\u001b[0m\u001b[0m\n\u001b[0;32m    660\u001b[0m                         \u001b[0mouts\u001b[0m\u001b[1;33m,\u001b[0m\u001b[1;33m\u001b[0m\u001b[0m\n\u001b[1;32m--> 661\u001b[1;33m                         self, node)\n\u001b[0m\u001b[0;32m    662\u001b[0m         \u001b[1;32mexcept\u001b[0m \u001b[1;33m(\u001b[0m\u001b[0mImportError\u001b[0m\u001b[1;33m,\u001b[0m \u001b[0mtheano\u001b[0m\u001b[1;33m.\u001b[0m\u001b[0mgof\u001b[0m\u001b[1;33m.\u001b[0m\u001b[0mcmodule\u001b[0m\u001b[1;33m.\u001b[0m\u001b[0mMissingGXX\u001b[0m\u001b[1;33m)\u001b[0m\u001b[1;33m:\u001b[0m\u001b[1;33m\u001b[0m\u001b[0m\n\u001b[0;32m    663\u001b[0m             \u001b[0mp\u001b[0m \u001b[1;33m=\u001b[0m \u001b[0mself\u001b[0m\u001b[1;33m.\u001b[0m\u001b[0mexecute\u001b[0m\u001b[1;33m\u001b[0m\u001b[0m\n",
      "\u001b[1;32mscan_perform.pyx\u001b[0m in \u001b[0;36mtheano.scan_module.scan_perform.perform (/home/shawn/.theano/compiledir_Linux-4.0--ck-x86_64-with-glibc2.2.5--2.7.9-64/scan_perform/mod.cpp:3605)\u001b[1;34m()\u001b[0m\n",
      "\u001b[1;32mscan_perform.pyx\u001b[0m in \u001b[0;36mtheano.scan_module.scan_perform.perform (/home/shawn/.theano/compiledir_Linux-4.0--ck-x86_64-with-glibc2.2.5--2.7.9-64/scan_perform/mod.cpp:3537)\u001b[1;34m()\u001b[0m\n",
      "\u001b[1;32m/usr/lib/python2.7/site-packages/theano/gof/op.pyc\u001b[0m in \u001b[0;36mrval\u001b[1;34m(p, i, o, n)\u001b[0m\n\u001b[0;32m    766\u001b[0m             \u001b[1;31m# default arguments are stored in the closure of `rval`\u001b[0m\u001b[1;33m\u001b[0m\u001b[1;33m\u001b[0m\u001b[0m\n\u001b[0;32m    767\u001b[0m             \u001b[1;32mdef\u001b[0m \u001b[0mrval\u001b[0m\u001b[1;33m(\u001b[0m\u001b[0mp\u001b[0m\u001b[1;33m=\u001b[0m\u001b[0mp\u001b[0m\u001b[1;33m,\u001b[0m \u001b[0mi\u001b[0m\u001b[1;33m=\u001b[0m\u001b[0mnode_input_storage\u001b[0m\u001b[1;33m,\u001b[0m \u001b[0mo\u001b[0m\u001b[1;33m=\u001b[0m\u001b[0mnode_output_storage\u001b[0m\u001b[1;33m,\u001b[0m \u001b[0mn\u001b[0m\u001b[1;33m=\u001b[0m\u001b[0mnode\u001b[0m\u001b[1;33m)\u001b[0m\u001b[1;33m:\u001b[0m\u001b[1;33m\u001b[0m\u001b[0m\n\u001b[1;32m--> 768\u001b[1;33m                 \u001b[0mr\u001b[0m \u001b[1;33m=\u001b[0m \u001b[0mp\u001b[0m\u001b[1;33m(\u001b[0m\u001b[0mn\u001b[0m\u001b[1;33m,\u001b[0m \u001b[1;33m[\u001b[0m\u001b[0mx\u001b[0m\u001b[1;33m[\u001b[0m\u001b[1;36m0\u001b[0m\u001b[1;33m]\u001b[0m \u001b[1;32mfor\u001b[0m \u001b[0mx\u001b[0m \u001b[1;32min\u001b[0m \u001b[0mi\u001b[0m\u001b[1;33m]\u001b[0m\u001b[1;33m,\u001b[0m \u001b[0mo\u001b[0m\u001b[1;33m)\u001b[0m\u001b[1;33m\u001b[0m\u001b[0m\n\u001b[0m\u001b[0;32m    769\u001b[0m                 \u001b[1;32mfor\u001b[0m \u001b[0mo\u001b[0m \u001b[1;32min\u001b[0m \u001b[0mnode\u001b[0m\u001b[1;33m.\u001b[0m\u001b[0moutputs\u001b[0m\u001b[1;33m:\u001b[0m\u001b[1;33m\u001b[0m\u001b[0m\n\u001b[0;32m    770\u001b[0m                     \u001b[0mcompute_map\u001b[0m\u001b[1;33m[\u001b[0m\u001b[0mo\u001b[0m\u001b[1;33m]\u001b[0m\u001b[1;33m[\u001b[0m\u001b[1;36m0\u001b[0m\u001b[1;33m]\u001b[0m \u001b[1;33m=\u001b[0m \u001b[0mTrue\u001b[0m\u001b[1;33m\u001b[0m\u001b[0m\n",
      "\u001b[1;32m/usr/lib/python2.7/site-packages/theano/tensor/nlinalg.pyc\u001b[0m in \u001b[0;36mperform\u001b[1;34m(self, node, (x,), (z,))\u001b[0m\n\u001b[0;32m     71\u001b[0m \u001b[1;33m\u001b[0m\u001b[0m\n\u001b[0;32m     72\u001b[0m     \u001b[1;32mdef\u001b[0m \u001b[0mperform\u001b[0m\u001b[1;33m(\u001b[0m\u001b[0mself\u001b[0m\u001b[1;33m,\u001b[0m \u001b[0mnode\u001b[0m\u001b[1;33m,\u001b[0m \u001b[1;33m(\u001b[0m\u001b[0mx\u001b[0m\u001b[1;33m,\u001b[0m\u001b[1;33m)\u001b[0m\u001b[1;33m,\u001b[0m \u001b[1;33m(\u001b[0m\u001b[0mz\u001b[0m\u001b[1;33m,\u001b[0m \u001b[1;33m)\u001b[0m\u001b[1;33m)\u001b[0m\u001b[1;33m:\u001b[0m\u001b[1;33m\u001b[0m\u001b[0m\n\u001b[1;32m---> 73\u001b[1;33m         \u001b[0mz\u001b[0m\u001b[1;33m[\u001b[0m\u001b[1;36m0\u001b[0m\u001b[1;33m]\u001b[0m \u001b[1;33m=\u001b[0m \u001b[0mnumpy\u001b[0m\u001b[1;33m.\u001b[0m\u001b[0mlinalg\u001b[0m\u001b[1;33m.\u001b[0m\u001b[0minv\u001b[0m\u001b[1;33m(\u001b[0m\u001b[0mx\u001b[0m\u001b[1;33m)\u001b[0m\u001b[1;33m.\u001b[0m\u001b[0mastype\u001b[0m\u001b[1;33m(\u001b[0m\u001b[0mx\u001b[0m\u001b[1;33m.\u001b[0m\u001b[0mdtype\u001b[0m\u001b[1;33m)\u001b[0m\u001b[1;33m\u001b[0m\u001b[0m\n\u001b[0m\u001b[0;32m     74\u001b[0m \u001b[1;33m\u001b[0m\u001b[0m\n\u001b[0;32m     75\u001b[0m     \u001b[1;32mdef\u001b[0m \u001b[0mgrad\u001b[0m\u001b[1;33m(\u001b[0m\u001b[0mself\u001b[0m\u001b[1;33m,\u001b[0m \u001b[0minputs\u001b[0m\u001b[1;33m,\u001b[0m \u001b[0mg_outputs\u001b[0m\u001b[1;33m)\u001b[0m\u001b[1;33m:\u001b[0m\u001b[1;33m\u001b[0m\u001b[0m\n",
      "\u001b[1;32m/usr/lib/python2.7/site-packages/numpy/linalg/linalg.pyc\u001b[0m in \u001b[0;36minv\u001b[1;34m(a)\u001b[0m\n\u001b[0;32m    518\u001b[0m     \u001b[0msignature\u001b[0m \u001b[1;33m=\u001b[0m \u001b[1;34m'D->D'\u001b[0m \u001b[1;32mif\u001b[0m \u001b[0misComplexType\u001b[0m\u001b[1;33m(\u001b[0m\u001b[0mt\u001b[0m\u001b[1;33m)\u001b[0m \u001b[1;32melse\u001b[0m \u001b[1;34m'd->d'\u001b[0m\u001b[1;33m\u001b[0m\u001b[0m\n\u001b[0;32m    519\u001b[0m     \u001b[0mextobj\u001b[0m \u001b[1;33m=\u001b[0m \u001b[0mget_linalg_error_extobj\u001b[0m\u001b[1;33m(\u001b[0m\u001b[0m_raise_linalgerror_singular\u001b[0m\u001b[1;33m)\u001b[0m\u001b[1;33m\u001b[0m\u001b[0m\n\u001b[1;32m--> 520\u001b[1;33m     \u001b[0mainv\u001b[0m \u001b[1;33m=\u001b[0m \u001b[0m_umath_linalg\u001b[0m\u001b[1;33m.\u001b[0m\u001b[0minv\u001b[0m\u001b[1;33m(\u001b[0m\u001b[0ma\u001b[0m\u001b[1;33m,\u001b[0m \u001b[0msignature\u001b[0m\u001b[1;33m=\u001b[0m\u001b[0msignature\u001b[0m\u001b[1;33m,\u001b[0m \u001b[0mextobj\u001b[0m\u001b[1;33m=\u001b[0m\u001b[0mextobj\u001b[0m\u001b[1;33m)\u001b[0m\u001b[1;33m\u001b[0m\u001b[0m\n\u001b[0m\u001b[0;32m    521\u001b[0m     \u001b[1;32mreturn\u001b[0m \u001b[0mwrap\u001b[0m\u001b[1;33m(\u001b[0m\u001b[0mainv\u001b[0m\u001b[1;33m.\u001b[0m\u001b[0mastype\u001b[0m\u001b[1;33m(\u001b[0m\u001b[0mresult_t\u001b[0m\u001b[1;33m)\u001b[0m\u001b[1;33m)\u001b[0m\u001b[1;33m\u001b[0m\u001b[0m\n\u001b[0;32m    522\u001b[0m \u001b[1;33m\u001b[0m\u001b[0m\n",
      "\u001b[1;32m/usr/lib/python2.7/site-packages/numpy/linalg/linalg.pyc\u001b[0m in \u001b[0;36m_raise_linalgerror_singular\u001b[1;34m(err, flag)\u001b[0m\n\u001b[0;32m     88\u001b[0m \u001b[1;33m\u001b[0m\u001b[0m\n\u001b[0;32m     89\u001b[0m \u001b[1;32mdef\u001b[0m \u001b[0m_raise_linalgerror_singular\u001b[0m\u001b[1;33m(\u001b[0m\u001b[0merr\u001b[0m\u001b[1;33m,\u001b[0m \u001b[0mflag\u001b[0m\u001b[1;33m)\u001b[0m\u001b[1;33m:\u001b[0m\u001b[1;33m\u001b[0m\u001b[0m\n\u001b[1;32m---> 90\u001b[1;33m     \u001b[1;32mraise\u001b[0m \u001b[0mLinAlgError\u001b[0m\u001b[1;33m(\u001b[0m\u001b[1;34m\"Singular matrix\"\u001b[0m\u001b[1;33m)\u001b[0m\u001b[1;33m\u001b[0m\u001b[0m\n\u001b[0m\u001b[0;32m     91\u001b[0m \u001b[1;33m\u001b[0m\u001b[0m\n\u001b[0;32m     92\u001b[0m \u001b[1;32mdef\u001b[0m \u001b[0m_raise_linalgerror_nonposdef\u001b[0m\u001b[1;33m(\u001b[0m\u001b[0merr\u001b[0m\u001b[1;33m,\u001b[0m \u001b[0mflag\u001b[0m\u001b[1;33m)\u001b[0m\u001b[1;33m:\u001b[0m\u001b[1;33m\u001b[0m\u001b[0m\n",
      "\u001b[1;31mLinAlgError\u001b[0m: Singular matrix\nApply node that caused the error: MatrixInverse(<TensorType(float64, matrix)>)\nInputs types: [TensorType(float64, matrix)]\n\nBacktrace when the node is created:\n  File \"<ipython-input-2-a8423099d1e5>\", line 4, in variance_inverse\n    sequences = [covariance_tensor]\n\nHINT: Use another linker then the c linker to have the inputs shapes and strides printed.\nHINT: Use the Theano flag 'exception_verbosity=high' for a debugprint and storage map footprint of this apply node.\nApply node that caused the error: for{cpu,scan_fn}(TensorConstant{4}, Reshape{3}.0, TensorConstant{4})\nInputs types: [TensorType(int64, scalar), TensorType(float64, 3D), TensorType(int64, scalar)]\nInputs shapes: [(), (4, 2, 2), ()]\nInputs strides: [(), (32, 16, 8), ()]\nInputs values: [array(4), 'not shown', array(4)]\n\nBacktrace when the node is created:\n  File \"<ipython-input-2-a8423099d1e5>\", line 4, in variance_inverse\n    sequences = [covariance_tensor]\n\nHINT: Use the Theano flag 'exception_verbosity=high' for a debugprint and storage map footprint of this apply node."
     ]
    }
   ],
   "source": [
    "l = np.zeros((128,),dtype=np.int32)\n",
    "for _ in xrange(10):\n",
    "    data = np.zeros((128,1024),dtype=np.float32)\n",
    "#    data += np.random.rand(128,1024)\n",
    "    data[:,32 * 0 + 0] = 10\n",
    "    data[:,32 * 22 + 6] = 10\n",
    "    data[:,32 * 22 + 22] = 10\n",
    "    data[:,32 * 1 + 1] = 10\n",
    "    update_stats(data,l)\n",
    "update_params()"
   ]
  },
  {
   "cell_type": "code",
   "execution_count": 29,
   "metadata": {
    "collapsed": false
   },
   "outputs": [
    {
     "data": {
      "text/plain": [
       "array([[[  0.5,   0.5],\n",
       "        [  6. ,  22. ],\n",
       "        [ 22. ,  22. ],\n",
       "        [ 22. ,  22. ]]])"
      ]
     },
     "execution_count": 29,
     "metadata": {},
     "output_type": "execute_result"
    }
   ],
   "source": [
    "params[\"phoneme_means_test\"].get_value()"
   ]
  }
 ],
 "metadata": {
  "kernelspec": {
   "display_name": "Python 2",
   "language": "python",
   "name": "python2"
  },
  "language_info": {
   "codemirror_mode": {
    "name": "ipython",
    "version": 2
   },
   "file_extension": ".py",
   "mimetype": "text/x-python",
   "name": "python",
   "nbconvert_exporter": "python",
   "pygments_lexer": "ipython2",
   "version": "2.7.9"
  }
 },
 "nbformat": 4,
 "nbformat_minor": 0
}
